{
 "cells": [
  {
   "cell_type": "markdown",
   "metadata": {},
   "source": [
    "# PTT 網路爬蟲實作練習\n",
    "\n",
    "\n",
    "* 能夠利用 Request + BeatifulSour 撰寫爬蟲，並存放到合適的資料結構\n"
   ]
  },
  {
   "cell_type": "markdown",
   "metadata": {},
   "source": [
    "## 作業目標\n",
    "\n",
    "根據範例 ，完成以下問題：\n",
    "\n",
    "* ① 印出最新文章的「作者」「標題」「時間」\n",
    "* ② 印出第一頁所有文章的「作者」「標題」「時間」\n"
   ]
  },
  {
   "cell_type": "markdown",
   "metadata": {},
   "source": [
    "### ① 印出最新文章的「作者」「標題」「時間」"
   ]
  },
  {
   "cell_type": "code",
   "execution_count": 27,
   "metadata": {},
   "outputs": [
    {
     "name": "stdout",
     "output_type": "stream",
     "text": [
      "作者s27052705 (小飽)\n",
      "標題[情報] 聯盟正評估Dinwiddie提出的將薪資轉為數\n",
      "時間Sat Jan 11 02:22:56 2020\n"
     ]
    }
   ],
   "source": [
    "import requests\n",
    "from bs4 import BeautifulSoup\n",
    "\n",
    "url = 'https://www.ptt.cc/bbs/NBA/index.html'\n",
    "r = requests.get(url)\n",
    "\n",
    "soup = BeautifulSoup(r.text, \"html5lib\")\n",
    "\n",
    "e = soup.find(class_=\"title\")\n",
    "\n",
    "r = BeautifulSoup(requests.get('https://www.ptt.cc'+e.find('a')['href']).text, \"html5lib\")\n",
    "for j in r.find_all(class_='article-metaline'):\n",
    "    print(j.text)\n"
   ]
  },
  {
   "cell_type": "markdown",
   "metadata": {},
   "source": [
    "### ② 印出第一頁所有文章的「作者」「標題」「時間」"
   ]
  },
  {
   "cell_type": "code",
   "execution_count": 19,
   "metadata": {},
   "outputs": [
    {
     "name": "stdout",
     "output_type": "stream",
     "text": [
      "作者s27052705 (小飽)\n",
      "標題[情報] 聯盟正評估Dinwiddie提出的將薪資轉為數\n",
      "時間Sat Jan 11 02:22:56 2020\n",
      "作者Vedan (味丹)\n",
      "標題Fw: [公告] 選舉日請勿發表競選或助選之言論 \n",
      "時間Sat Jan 11 03:22:55 2020\n",
      "作者love1500274 (CoWuCoWu)\n",
      "標題[討論] M.Barnes和S.Jackson的節目\n",
      "時間Sat Jan 11 03:37:24 2020\n",
      "作者Vedan (味丹)\n",
      "標題[公告] 樂透取消及未來不再開啟樂透\n",
      "時間Mon Jun 24 15:08:02 2019\n",
      "作者qazwsx879345 (Rajon Rondo)\n",
      "標題[公告] 版主上任相關事項\n",
      "時間Fri Oct 25 10:44:03 2019\n",
      "作者Acetoxy (阿斯)\n",
      "標題[情報] SEASON Schedule 賽程 January 19–20\n",
      "時間Fri Jan  3 01:37:35 2020\n"
     ]
    }
   ],
   "source": [
    "for d in soup.find_all(class_=\"title\"):\n",
    "     \n",
    "    try:\n",
    "        r = BeautifulSoup(requests.get('https://www.ptt.cc'+d.find('a')['href']).text, \"html5lib\")\n",
    "    \n",
    "        for j in r.find_all(class_='article-metaline'):\n",
    "            print(j.text)\n",
    "       \n",
    "    except:\n",
    "        continue  "
   ]
  },
  {
   "cell_type": "markdown",
   "metadata": {},
   "source": [
    "### ③ 試著爬爬看其他版的文章"
   ]
  },
  {
   "cell_type": "code",
   "execution_count": 49,
   "metadata": {},
   "outputs": [
    {
     "name": "stdout",
     "output_type": "stream",
     "text": [
      "01:43高處不勝寒?? 道瓊飛越29,000點後翻黑\n",
      "2020-01-11 01:43經濟日報 編譯廖玉玲／綜合外電\n"
     ]
    }
   ],
   "source": [
    "url = 'https://udn.com/news/index'\n",
    "r = requests.get(url)\n",
    "\n",
    "soup = BeautifulSoup(r.text, \"html5lib\")\n",
    "#print(soup)\n",
    "\n",
    "e = soup.find(class_=\"tabs_box_wrapper\")\n",
    "#print(e.text)\n",
    "print(e.find('a').text)\n",
    "#print(e.find('a')['href'])\n",
    "r = BeautifulSoup(requests.get(e.find('a')['href']).text, \"html5lib\")\n",
    "print(r.find(class_='story_bady_info_author').text)\n"
   ]
  }
 ],
 "metadata": {
  "kernelspec": {
   "display_name": "Python 3",
   "language": "python",
   "name": "python3"
  },
  "language_info": {
   "codemirror_mode": {
    "name": "ipython",
    "version": 3
   },
   "file_extension": ".py",
   "mimetype": "text/x-python",
   "name": "python",
   "nbconvert_exporter": "python",
   "pygments_lexer": "ipython3",
   "version": "3.7.3"
  }
 },
 "nbformat": 4,
 "nbformat_minor": 2
}
