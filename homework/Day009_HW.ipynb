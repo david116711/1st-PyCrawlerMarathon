{
 "cells": [
  {
   "cell_type": "markdown",
   "metadata": {},
   "source": [
    "# 作業\n",
    "\n",
    "以正確的副檔名下載網頁中的圖片\n",
    "範例網頁:https://www.ptt.cc/bbs/Beauty/M.1556291059.A.75A.html\n",
    "\n",
    "Note：因為 PTT 會詢問「是否滿 18 歲」，這邊可以用 cookies 繞過\n",
    "\n",
    "`requests.get(URL, cookies={'over18': '1'}`\n"
   ]
  },
  {
   "cell_type": "code",
   "execution_count": 1,
   "metadata": {},
   "outputs": [],
   "source": [
    "import requests\n",
    "import os\n",
    "\n",
    "from bs4 import BeautifulSoup\n",
    "from PIL import Image"
   ]
  },
  {
   "cell_type": "code",
   "execution_count": 2,
   "metadata": {},
   "outputs": [
    {
     "name": "stdout",
     "output_type": "stream",
     "text": [
      "<!DOCTYPE html>\n",
      "<html>\n",
      "\t<head>\n",
      "\t\t<meta charset=\"utf-8\">\n",
      "\t\t\n",
      "\n",
      "<meta name=\"viewport\" content=\"width=device-width, initial-scale=1\">\n",
      "\n",
      "<title>[正妹] 新垣結衣幾張 發錢 - 看板 Beauty - 批踢踢實業坊</title>\n",
      "<meta name=\"robots\" content=\"all\">\n",
      "<meta name=\"keywords\" content=\"Ptt BBS 批踢踢\">\n",
      "<meta name=\"description\" content=\"看了上面那篇又開始打開資料夾複習國民老婆的照片\n",
      "又再次戀愛了 希望各位不要和我搶老婆&gt;///&lt;\n",
      "結衣是我的\n",
      "https://imgur.com/Cgb5oo1\n",
      "https://imgur.com/MgjHY4f\n",
      "\">\n",
      "<meta property=\"og:site_name\" content=\"Ptt 批踢踢實業坊\">\n",
      "<meta property=\"og:title\" content=\"[正妹] 新垣結衣幾張 發錢\">\n",
      "<meta property=\"og:description\" content=\"看了上面那篇又開始打開資料夾複習國民老婆的照片\n",
      "又再次戀愛了 希望各位不要和我搶老婆&gt;///&lt;\n",
      "結衣是我的\n",
      "https://imgur.com/Cgb5oo1\n",
      "https://imgur.com/MgjHY4f\n",
      "\">\n",
      "<link rel=\"canonical\" href=\"https://www.ptt.cc/bbs/Beauty/M.1556291059.A.75A.html\">\n",
      "\n",
      "<link rel=\"stylesheet\" type=\"text/css\" href=\"//images.ptt.cc/bbs/v2.27/bbs-common.css\">\n",
      "<link rel=\"stylesheet\" type=\"text/css\" href=\"//images.ptt.cc/bbs/v2.27/bbs-base.css\" media=\"screen\">\n",
      "<link rel=\"stylesheet\" type=\"text/css\" href=\"//images.ptt.cc/bbs/v2.27/bbs-custom.css\">\n",
      "<link rel=\"stylesheet\" type=\"text/css\" href=\"//images.ptt.cc/bbs/v2.27/pushstream.css\" media=\"screen\">\n",
      "<link rel=\"stylesheet\" type=\"text/css\" href=\"//images.ptt.cc/bbs/v2.27/bbs-print.css\" media=\"print\">\n",
      "\n",
      "\n",
      "\n",
      "\n",
      "\t</head>\n",
      "    <body>\n",
      "\t\t\n",
      "<div id=\"topbar-container\">\n",
      "\t<div id=\"topbar\" class=\"bbs-content\">\n",
      "\t\t<a id=\"logo\" href=\"/bbs/\">批踢踢實業坊</a>\n",
      "\t\t<span>&rsaquo;</span>\n",
      "\t\t<a class=\"board\" href=\"/bbs/Beauty/index.html\"><span class=\"board-label\">看板 </span>Beauty</a>\n",
      "\t\t<a class=\"right small\" href=\"/about.html\">關於我們</a>\n",
      "\t\t<a class=\"right small\" href=\"/contact.html\">聯絡資訊</a>\n",
      "\t</div>\n",
      "</div>\n",
      "<div id=\"navigation-container\">\n",
      "\t<div id=\"navigation\" class=\"bbs-content\">\n",
      "\t\t<a class=\"board\" href=\"/bbs/Beauty/index.html\">返回看板</a>\n",
      "\t\t<div class=\"bar\"></div>\n",
      "\t</div>\n",
      "</div>\n",
      "<div id=\"main-container\">\n",
      "    <div id=\"main-content\" class=\"bbs-screen bbs-content\"><div class=\"article-metaline\"><span class=\"article-meta-tag\">作者</span><span class=\"article-meta-value\">clbkan (行動代號龍捲風)</span></div><div class=\"article-metaline-right\"><span class=\"article-meta-tag\">看板</span><span class=\"article-meta-value\">Beauty</span></div><div class=\"article-metaline\"><span class=\"article-meta-tag\">標題</span><span class=\"article-meta-value\">[正妹] 新垣結衣幾張 發錢</span></div><div class=\"article-metaline\"><span class=\"article-meta-tag\">時間</span><span class=\"article-meta-value\">Fri Apr 26 23:04:17 2019</span></div>\n",
      "看了上面那篇又開始打開資料夾複習國民老婆的照片\n",
      "\n",
      "又再次戀愛了 希望各位不要和我搶老婆&gt;///&lt;\n",
      "\n",
      "結衣是我的\n",
      "\n",
      "<a href=\"https://imgur.com/Cgb5oo1\" target=\"_blank\" rel=\"nofollow\">https://imgur.com/Cgb5oo1</a>\n",
      "<div class=\"richcontent\"><blockquote class=\"imgur-embed-pub\" lang=\"en\" data-id=\"Cgb5oo1\"><a href=\"//imgur.com/Cgb5oo1\"></a></blockquote><script async src=\"//s.imgur.com/min/embed.js\" charset=\"utf-8\"></script></div><a href=\"https://imgur.com/MgjHY4f\" target=\"_blank\" rel=\"nofollow\">https://imgur.com/MgjHY4f</a>\n",
      "<div class=\"richcontent\"><blockquote class=\"imgur-embed-pub\" lang=\"en\" data-id=\"MgjHY4f\"><a href=\"//imgur.com/MgjHY4f\"></a></blockquote><script async src=\"//s.imgur.com/min/embed.js\" charset=\"utf-8\"></script></div><a href=\"https://imgur.com/yeoRtAs\" target=\"_blank\" rel=\"nofollow\">https://imgur.com/yeoRtAs</a>\n",
      "<div class=\"richcontent\"><blockquote class=\"imgur-embed-pub\" lang=\"en\" data-id=\"yeoRtAs\"><a href=\"//imgur.com/yeoRtAs\"></a></blockquote><script async src=\"//s.imgur.com/min/embed.js\" charset=\"utf-8\"></script></div><a href=\"https://imgur.com/wsauNEW\" target=\"_blank\" rel=\"nofollow\">https://imgur.com/wsauNEW</a>\n",
      "<div class=\"richcontent\"><blockquote class=\"imgur-embed-pub\" lang=\"en\" data-id=\"wsauNEW\"><a href=\"//imgur.com/wsauNEW\"></a></blockquote><script async src=\"//s.imgur.com/min/embed.js\" charset=\"utf-8\"></script></div><a href=\"https://imgur.com/IjiETcs\" target=\"_blank\" rel=\"nofollow\">https://imgur.com/IjiETcs</a>\n",
      "<div class=\"richcontent\"><blockquote class=\"imgur-embed-pub\" lang=\"en\" data-id=\"IjiETcs\"><a href=\"//imgur.com/IjiETcs\"></a></blockquote><script async src=\"//s.imgur.com/min/embed.js\" charset=\"utf-8\"></script></div>\n",
      "--\n",
      "<span class=\"f2\">※ 發信站: 批踢踢實業坊(ptt.cc), 來自: 111.242.90.183\n",
      "</span><span class=\"f2\">※ 文章網址: <a href=\"https://www.ptt.cc/bbs/Beauty/M.1556291059.A.75A.html\" target=\"_blank\" rel=\"nofollow\">https://www.ptt.cc/bbs/Beauty/M.1556291059.A.75A.html</a>\n",
      "</span><div class=\"push\"><span class=\"hl push-tag\">推 </span><span class=\"f3 hl push-userid\">KiniroMosaic</span><span class=\"f3 push-content\">: 板皇下台</span><span class=\"push-ipdatetime\"> 04/26 23:05\n",
      "</span></div>1\n",
      "<div class=\"push\"><span class=\"f1 hl push-tag\">→ </span><span class=\"f3 hl push-userid\">KiniroMosaic</span><span class=\"f3 push-content\">: 首推有嗎</span><span class=\"push-ipdatetime\"> 04/26 23:05\n",
      "</span></div>好加碼給你 我統計完會給\n",
      "<div class=\"push\"><span class=\"f1 hl push-tag\">→ </span><span class=\"f3 hl push-userid\">maxwells</span><span class=\"f3 push-content\">: 版皇下台</span><span class=\"push-ipdatetime\"> 04/26 23:05\n",
      "</span></div><div class=\"push\"><span class=\"hl push-tag\">推 </span><span class=\"f3 hl push-userid\">KiniroMosaic</s\n"
     ]
    }
   ],
   "source": [
    "url = 'https://www.ptt.cc/bbs/Beauty/M.1556291059.A.75A.html'\n",
    "resp = requests.get(url, cookies={'over18': '1'})\n",
    "soup = BeautifulSoup(resp.text)\n",
    "print(resp.text[:5000])"
   ]
  },
  {
   "cell_type": "code",
   "execution_count": 8,
   "metadata": {},
   "outputs": [
    {
     "name": "stdout",
     "output_type": "stream",
     "text": [
      "Save image downloads/Cgb5oo1.jpeg\n",
      "Save image downloads/MgjHY4f.jpeg\n",
      "Save image downloads/yeoRtAs.jpeg\n",
      "Save image downloads/wsauNEW.jpeg\n",
      "Save image downloads/IjiETcs.jpeg\n"
     ]
    }
   ],
   "source": [
    "# 決定要儲存的資料夾\n",
    "output_dir = 'downloads'\n",
    "\n",
    "# 假如資料夾不存在就新增一個資料夾\n",
    "if not os.path.exists(output_dir):\n",
    "    os.makedirs(output_dir)\n",
    "\n",
    "# 定位所有圖片的 tag\n",
    "image_tags = soup.find(id='main-content').findChildren('a', recursive=False)\n",
    "for img_tag in image_tags:\n",
    "    # 取得所有圖片在第三方服務的 id\n",
    "    if 'imgur' not in img_tag['href']:\n",
    "        continue\n",
    "    img_id = img_tag['href'].split('/')[-1]\n",
    "    # 組合圖片而非網站的網址\n",
    "    img_url = 'https://i.imgur.com/{}.jpg'.format(img_id)\n",
    "    \n",
    "    #print(img_tag)\n",
    "    #print(img_tag['href'])\n",
    "    #print(img_id)\n",
    "    #print(img_url)\n",
    "    \n",
    "    # 對圖片送出請求\n",
    "    with requests.get(img_url, stream=True) as r:\n",
    "        r.raise_for_status()\n",
    "        # 檢查圖片副檔名\n",
    "        img = Image.open(r.raw)\n",
    "        \n",
    "        #print(img)\n",
    "        #print(img.format)\n",
    "        #print(img.format.lower())\n",
    "        \n",
    "        img_savename = '{outdir}/{img_id}.{img_ext}'.format(\n",
    "            outdir=output_dir, img_id=img_id, img_ext=img.format.lower())\n",
    "        img.save(img_savename)\n",
    "        print('Save image {}'.format(img_savename))\n",
    "    "
   ]
  }
 ],
 "metadata": {
  "kernelspec": {
   "display_name": "Python 3",
   "language": "python",
   "name": "python3"
  },
  "language_info": {
   "codemirror_mode": {
    "name": "ipython",
    "version": 3
   },
   "file_extension": ".py",
   "mimetype": "text/x-python",
   "name": "python",
   "nbconvert_exporter": "python",
   "pygments_lexer": "ipython3",
   "version": "3.7.3"
  }
 },
 "nbformat": 4,
 "nbformat_minor": 2
}
