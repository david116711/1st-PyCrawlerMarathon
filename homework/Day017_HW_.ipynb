{
 "cells": [
  {
   "cell_type": "markdown",
   "metadata": {},
   "source": [
    "# HTTP 動態網頁架構說明\n",
    "\n",
    "\n",
    "* 了解動態網頁的資料爬蟲策略\n",
    "* 知道非同步網頁載入機制（Ajax）\n",
    "* 學習兩種對應動態網頁爬蟲的的策略\n"
   ]
  },
  {
   "cell_type": "markdown",
   "metadata": {},
   "source": [
    "## 作業目標\n",
    "\n",
    "回答以下問題：\n",
    "\n",
    "1. 動態網頁跟靜態網頁的差別是什麼？原本靜態網頁的做法會產生什麼問題或是缺點？\n",
    "2. 還記得我們在 ETTODAY 靜態爬蟲實作練習中，有請大家完成一個題目「取出今天所有的發文」，但仔細看其實並沒有真的把當天所有的新聞都抓回來， 試著回答看看原因是什麼？及該如何檢查？\n"
   ]
  },
  {
   "cell_type": "markdown",
   "metadata": {},
   "source": [
    "### 1. 動態網頁跟靜態網頁的差別是什麼？原本靜態網頁的做法會產生什麼問題或是缺點？"
   ]
  },
  {
   "cell_type": "code",
   "execution_count": 5,
   "metadata": {},
   "outputs": [
    {
     "name": "stdout",
     "output_type": "stream",
     "text": [
      "1.動態網頁跟靜態網頁的差別：動態網⾴頁有別於靜態網⾴頁產⽣生資料的⽅方式。靜態網⾴頁是透過每一次使用者請求，後端會產生一次網頁回傳，所以請求與回傳是一對一的。在動態網頁的話，是透過 Ajax 的技術，來完成非同步的資料傳輸。換句話說，就是在網頁上，任何時間點都可以發送請求給後端，後端只回傳資料，而不是回傳整個網頁。\n",
      "2.靜態網頁的做法會產生什麼問題或是缺點：靜態網頁比較耗流量。\n"
     ]
    }
   ],
   "source": [
    "a = '動態網⾴頁有別於靜態網⾴頁產⽣生資料的⽅方式。靜態網⾴頁是透過每一次使用者請求，後端會產生一次網頁回傳，所以請求與回傳是一對一的。在動態網頁的話，是透過 Ajax 的技術，來完成非同步的資料傳輸。換句話說，就是在網頁上，任何時間點都可以發送請求給後端，後端只回傳資料，而不是回傳整個網頁。'\n",
    "# b = 'AJAX（Asynchronous JavaScript and XML）是一種在瀏覽器中讓頁面不會整個重載的情況下發送 HTTP 請求的技術。使用 AJAX 來與伺服器溝通的情況下，不會重新載入整個頁面，而只是傳遞最小的必要資料。'\n",
    "c = '靜態網頁比較耗流量。'\n",
    "\n",
    "print(\"1.動態網頁跟靜態網頁的差別：%s\" % a)\n",
    "print(\"2.靜態網頁的做法會產生什麼問題或是缺點：%s\" % c)\n"
   ]
  },
  {
   "cell_type": "markdown",
   "metadata": {},
   "source": [
    "### 2. 還記得我們在 ETTODAY 靜態爬蟲實作練習中，有請大家完成一個題目「取出今天所有的發文」，但仔細看其實並沒有真的把當天所有的新聞都抓回來， 試著回答看看原因是什麼？及該如何檢查？"
   ]
  },
  {
   "cell_type": "code",
   "execution_count": 11,
   "metadata": {},
   "outputs": [
    {
     "name": "stdout",
     "output_type": "stream",
     "text": [
      "可能是網頁程式裡有執行非同步資訊的語法(javascript)，如以下爬到的資料:\n",
      "眼科醫生慘遭病人家屬「菜刀瘋斬後腦勺」\n",
      "春節禁忌大公開！「這天」洗頭衰整年\n",
      "台中活春宮男主角身分曝光：北部建築業小開\n",
      "活春宮哥影片瘋傳　老婆氣：變全台最知名\n",
      "Lisa掰了招牌妹妹頭「旁分瀏海」罕露額頭\n",
      "\n",
      "\t\t\t\t\t\t\t\t\t\t\n",
      "\t\t\t\t\t\t\t\t\t\t<!-- <![CDATA[\n",
      "\t\t\t\t\t\t\t\t\t\t\t var ts = Math.random();\n",
      "\t\t\t\t\t\t\t\t\t\t\t document.write('<scr' + 'ipt language=\"JavaScript\" type=\"text/javascript\" src=\"//ad.ettoday.net/ads.php?bid=all_news_text5&rr='+ ts +'\"></scr' + 'ipt>');\n",
      "\t\t\t\t\t\t\t\t\t\t\t // ]]> -->\n",
      "\t\t\t\t\t\t\t\t\t\t\n",
      "\t\t\t\t\t\t\t\t\t  \n",
      "雞排妹：我做到睡著！網紅瘋男釣出女神驚人發言\n",
      "牧羊犬生出綠寶寶　飼主被真相驚呆\n",
      "夢見毛蟲爬臉！妻子傳睡照秒解答\n",
      "「在不瘋狂」游否希爆氣：有人想暗殺團員！\n",
      "女大生遭硬上跳樓…兇手還「偽裝車禍」判決出爐\n",
      "\n",
      "\t\t\t\t\t\t\t\t\t\t\n",
      "\t\t\t\t\t\t\t\t\t\t<!-- <![CDATA[\n",
      "\t\t\t\t\t\t\t\t\t\t\t var ts = Math.random();\n",
      "\t\t\t\t\t\t\t\t\t\t\t document.write('<scr' + 'ipt language=\"JavaScript\" type=\"text/javascript\" src=\"//ad.ettoday.net/ads.php?bid=all_news_text6&rr='+ ts +'\"></scr' + 'ipt>');\n",
      "\t\t\t\t\t\t\t\t\t\t\t // ]]> -->\n",
      "\t\t\t\t\t\t\t\t\t\t\n",
      "\t\t\t\t\t\t\t\t\t  \n",
      "愛情照外流…直播女神又忘關鏡頭！忘情模樣全被拍\n",
      "台中活春宮哥現身　悔：帶妹出場路...不熟又凍未條\n",
      "春節天氣一張圖3變天！全台雨6天\n",
      "拿育兒津貼買2萬《天堂M》帳號　網哭了\n",
      "「6星座」3月前偏財運旺到爆！\n",
      "\n",
      "\t\t\t\t\t\t\t\t\t\t\n",
      "\t\t\t\t\t\t\t\t\t\t<!-- <![CDATA[\n",
      "\t\t\t\t\t\t\t\t\t\t\t var ts = Math.random();\n",
      "\t\t\t\t\t\t\t\t\t\t\t document.write('<scr' + 'ipt language=\"JavaScript\" type=\"text/javascript\" src=\"//ad.ettoday.net/ads.php?bid=all_news_text7&rr='+ ts +'\"></scr' + 'ipt>');\n",
      "\t\t\t\t\t\t\t\t\t\t\t // ]]> -->\n",
      "\t\t\t\t\t\t\t\t\t\t\n",
      "\t\t\t\t\t\t\t\t\t  \n"
     ]
    }
   ],
   "source": [
    "print(\"可能是網頁程式裡有執行非同步資訊的語法(javascript)，如以下爬到的資料:\")\n",
    "\n",
    "import requests\n",
    "from bs4 import BeautifulSoup\n",
    "\n",
    "url = 'https://www.ettoday.net/news/news-list.htm'\n",
    "r = requests.get(url)\n",
    "\n",
    "soup = BeautifulSoup(r.text, \"html5lib\")\n",
    "#print(soup)\n",
    "\n",
    "# for d in soup.find(class_=\"part_list_2\").find_all('h3'):\n",
    "#    print(d.find(class_=\"date\").text, d.find_all('a')[-1].text)\n",
    "    \n",
    "for d in soup.find(class_=\"part_list_5 sidebar-hot-news clearfix\").find_all('h3'):\n",
    "    print(d.text)   \n"
   ]
  }
 ],
 "metadata": {
  "kernelspec": {
   "display_name": "Python 3",
   "language": "python",
   "name": "python3"
  },
  "language_info": {
   "codemirror_mode": {
    "name": "ipython",
    "version": 3
   },
   "file_extension": ".py",
   "mimetype": "text/x-python",
   "name": "python",
   "nbconvert_exporter": "python",
   "pygments_lexer": "ipython3",
   "version": "3.7.3"
  }
 },
 "nbformat": 4,
 "nbformat_minor": 2
}
